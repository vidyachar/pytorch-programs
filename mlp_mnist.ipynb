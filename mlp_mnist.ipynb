{
  "nbformat": 4,
  "nbformat_minor": 0,
  "metadata": {
    "colab": {
      "name": "mlp_mnist.ipynb",
      "provenance": [],
      "authorship_tag": "ABX9TyMcz2jcNfqm8DlIlMCUWiJp",
      "include_colab_link": true
    },
    "kernelspec": {
      "name": "python3",
      "display_name": "Python 3"
    }
  },
  "cells": [
    {
      "cell_type": "markdown",
      "metadata": {
        "id": "view-in-github",
        "colab_type": "text"
      },
      "source": [
        "<a href=\"https://colab.research.google.com/github/vidyachar/pytorch-programs/blob/main/mlp_mnist.ipynb\" target=\"_parent\"><img src=\"https://colab.research.google.com/assets/colab-badge.svg\" alt=\"Open In Colab\"/></a>"
      ]
    },
    {
      "cell_type": "code",
      "metadata": {
        "id": "X61A9wE1NQku"
      },
      "source": [
        ""
      ],
      "execution_count": null,
      "outputs": []
    },
    {
      "cell_type": "code",
      "metadata": {
        "id": "s1RgIwm-oiCm"
      },
      "source": [
        "#import the required libraries\n",
        "import keras\n",
        "from keras.datasets import mnist\n",
        "from keras.models import Sequential\n",
        "from keras.layers import Dense, Dropout"
      ],
      "execution_count": 1,
      "outputs": []
    },
    {
      "cell_type": "code",
      "metadata": {
        "id": "B9zChPt_or_6"
      },
      "source": [
        "#define hyperparameters like batch_size, num_classes, and epochs.\n",
        "batch_size = 8\n",
        "num_classes = 10\n",
        "epochs = 5"
      ],
      "execution_count": 2,
      "outputs": []
    },
    {
      "cell_type": "code",
      "metadata": {
        "colab": {
          "base_uri": "https://localhost:8080/"
        },
        "id": "85hmBZmQowQy",
        "outputId": "f512072f-83b9-476e-ea4b-3af523c4d2cc"
      },
      "source": [
        "#load the dataset and store it into numpy arrays\n",
        "(x_train, y_train), (x_test, y_test) = mnist.load_data()\n",
        "print(x_train.shape)"
      ],
      "execution_count": 3,
      "outputs": [
        {
          "output_type": "stream",
          "text": [
            "Downloading data from https://storage.googleapis.com/tensorflow/tf-keras-datasets/mnist.npz\n",
            "11493376/11490434 [==============================] - 0s 0us/step\n",
            "(60000, 28, 28)\n"
          ],
          "name": "stdout"
        }
      ]
    },
    {
      "cell_type": "code",
      "metadata": {
        "id": "Bd0XKv9wpDQh"
      },
      "source": [
        "#reshape the image into 784x1 dimensional feature vector and typecast the array into float \n",
        "x_train = x_train.reshape(60000, 784)\n",
        "x_test = x_test.reshape(10000, 784)\n",
        "x_train = x_train.astype('float32')\n",
        "x_test = x_test.astype('float32')"
      ],
      "execution_count": 4,
      "outputs": []
    },
    {
      "cell_type": "code",
      "metadata": {
        "colab": {
          "base_uri": "https://localhost:8080/"
        },
        "id": "G95Gz_dPpJEO",
        "outputId": "19a1f6f6-b74a-4eb3-8dea-e1ff26748b98"
      },
      "source": [
        "#normalize the data\n",
        "x_train /= 255\n",
        "x_test /= 255\n",
        "print(x_train.shape[0], 'train samples')\n",
        "print(x_test.shape[0], 'test samples')"
      ],
      "execution_count": 5,
      "outputs": [
        {
          "output_type": "stream",
          "text": [
            "60000 train samples\n",
            "10000 test samples\n"
          ],
          "name": "stdout"
        }
      ]
    },
    {
      "cell_type": "code",
      "metadata": {
        "id": "QSHz8lEApL04"
      },
      "source": [
        "#Generate one-hot encoding representation for y_train and y_test\n",
        "y_train = keras.utils.to_categorical(y_train, num_classes)\n",
        "y_test = keras.utils.to_categorical(y_test, num_classes)"
      ],
      "execution_count": 6,
      "outputs": []
    },
    {
      "cell_type": "code",
      "metadata": {
        "colab": {
          "base_uri": "https://localhost:8080/"
        },
        "id": "F_0PAVgypOxh",
        "outputId": "0438cb5a-84bb-4ebb-f735-7869a451700d"
      },
      "source": [
        "#define the model\n",
        "model = Sequential()\n",
        "model.add(Dense(512, activation='relu', name= 'dense1',input_shape=(784,)))\n",
        "model.add(Dropout(0.2))\n",
        "model.add(Dense(512, activation='relu'))\n",
        "model.add(Dropout(0.2))\n",
        "model.add(Dense(num_classes, activation='softmax'))\n",
        "model.summary()"
      ],
      "execution_count": 7,
      "outputs": [
        {
          "output_type": "stream",
          "text": [
            "Model: \"sequential\"\n",
            "_________________________________________________________________\n",
            "Layer (type)                 Output Shape              Param #   \n",
            "=================================================================\n",
            "dense1 (Dense)               (None, 512)               401920    \n",
            "_________________________________________________________________\n",
            "dropout (Dropout)            (None, 512)               0         \n",
            "_________________________________________________________________\n",
            "dense (Dense)                (None, 512)               262656    \n",
            "_________________________________________________________________\n",
            "dropout_1 (Dropout)          (None, 512)               0         \n",
            "_________________________________________________________________\n",
            "dense_1 (Dense)              (None, 10)                5130      \n",
            "=================================================================\n",
            "Total params: 669,706\n",
            "Trainable params: 669,706\n",
            "Non-trainable params: 0\n",
            "_________________________________________________________________\n"
          ],
          "name": "stdout"
        }
      ]
    },
    {
      "cell_type": "code",
      "metadata": {
        "id": "Y43naIhNpR44",
        "colab": {
          "base_uri": "https://localhost:8080/"
        },
        "outputId": "cc5e919b-bfb3-414d-f8a4-32d84c1455b8"
      },
      "source": [
        "#Compile and train the model\n",
        "model.compile(loss='categorical_crossentropy',\n",
        "              optimizer='adam',\n",
        "              metrics=['accuracy'])\n",
        "\n",
        "history = model.fit(x_train, y_train,\n",
        "                    batch_size=batch_size,\n",
        "                    epochs=epochs,\n",
        "                    verbose=1,\n",
        "                    validation_data=(x_test, y_test))"
      ],
      "execution_count": 8,
      "outputs": [
        {
          "output_type": "stream",
          "text": [
            "Epoch 1/5\n",
            "7500/7500 [==============================] - 37s 5ms/step - loss: 0.3455 - accuracy: 0.8929 - val_loss: 0.1066 - val_accuracy: 0.9683\n",
            "Epoch 2/5\n",
            "7500/7500 [==============================] - 37s 5ms/step - loss: 0.1345 - accuracy: 0.9604 - val_loss: 0.1026 - val_accuracy: 0.9708\n",
            "Epoch 3/5\n",
            "7500/7500 [==============================] - 38s 5ms/step - loss: 0.1132 - accuracy: 0.9684 - val_loss: 0.1050 - val_accuracy: 0.9744\n",
            "Epoch 4/5\n",
            "7500/7500 [==============================] - 38s 5ms/step - loss: 0.0996 - accuracy: 0.9725 - val_loss: 0.1068 - val_accuracy: 0.9734\n",
            "Epoch 5/5\n",
            "7500/7500 [==============================] - 37s 5ms/step - loss: 0.0913 - accuracy: 0.9752 - val_loss: 0.1153 - val_accuracy: 0.9762\n"
          ],
          "name": "stdout"
        }
      ]
    },
    {
      "cell_type": "code",
      "metadata": {
        "colab": {
          "base_uri": "https://localhost:8080/"
        },
        "id": "PJSlP2trpeRH",
        "outputId": "1a7403f6-f19f-4f32-d630-042b4c6f878a"
      },
      "source": [
        "#predict the score on test data\n",
        "score = model.evaluate(x_test, y_test, verbose=0)\n",
        "print('Test loss:', score[0])\n",
        "print('Test accuracy:', score[1])"
      ],
      "execution_count": 9,
      "outputs": [
        {
          "output_type": "stream",
          "text": [
            "Test loss: 0.1152607873082161\n",
            "Test accuracy: 0.9761999845504761\n"
          ],
          "name": "stdout"
        }
      ]
    }
  ]
}