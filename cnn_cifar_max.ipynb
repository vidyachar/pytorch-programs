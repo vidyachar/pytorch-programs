{
  "nbformat": 4,
  "nbformat_minor": 0,
  "metadata": {
    "colab": {
      "name": "cnn_cifar_max.ipynb",
      "provenance": [],
      "authorship_tag": "ABX9TyMA8/b5/oG18oQpGrxOmANr",
      "include_colab_link": true
    },
    "kernelspec": {
      "name": "python3",
      "display_name": "Python 3"
    },
    "language_info": {
      "name": "python"
    }
  },
  "cells": [
    {
      "cell_type": "markdown",
      "metadata": {
        "id": "view-in-github",
        "colab_type": "text"
      },
      "source": [
        "<a href=\"https://colab.research.google.com/github/vidyachar/pytorch-programs/blob/main/cnn_cifar_max.ipynb\" target=\"_parent\"><img src=\"https://colab.research.google.com/assets/colab-badge.svg\" alt=\"Open In Colab\"/></a>"
      ]
    },
    {
      "cell_type": "code",
      "metadata": {
        "id": "7NPhT2IufZ3f"
      },
      "source": [
        "import tensorflow as tf\n",
        "\n",
        "from tensorflow.keras import datasets, layers, models"
      ],
      "execution_count": 1,
      "outputs": []
    },
    {
      "cell_type": "code",
      "metadata": {
        "id": "0uWzytR1fe5Y",
        "colab": {
          "base_uri": "https://localhost:8080/"
        },
        "outputId": "4a1402ca-937c-467c-e05a-5cab285b2581"
      },
      "source": [
        "(train_images, train_labels), (test_images, test_labels) = datasets.cifar10.load_data()\n",
        "\n",
        "# Normalize pixel values to be between 0 and 1\n",
        "train_images, test_images = train_images / 255.0, test_images / 255.0"
      ],
      "execution_count": 2,
      "outputs": [
        {
          "output_type": "stream",
          "text": [
            "Downloading data from https://www.cs.toronto.edu/~kriz/cifar-10-python.tar.gz\n",
            "170500096/170498071 [==============================] - 4s 0us/step\n"
          ],
          "name": "stdout"
        }
      ]
    },
    {
      "cell_type": "code",
      "metadata": {
        "id": "hCsy6gB0ufZL"
      },
      "source": [
        "model = models.Sequential()\n",
        "model.add(layers.Conv2D(32, (3, 3), activation='relu', input_shape=(32, 32, 3)))\n",
        "model.add(layers.MaxPooling2D((2, 2)))\n",
        "model.add(layers.Conv2D(64, (3, 3), activation='relu'))\n",
        "model.add(layers.MaxPooling2D((2, 2)))\n",
        "model.add(layers.Conv2D(64, (3, 3), activation='relu'))\n"
      ],
      "execution_count": 3,
      "outputs": []
    },
    {
      "cell_type": "code",
      "metadata": {
        "id": "n9a4WkzTvKmL"
      },
      "source": [
        "model.add(layers.Flatten())\n",
        "model.add(layers.Dense(64, activation='relu'))\n",
        "model.add(layers.Dense(10))"
      ],
      "execution_count": 4,
      "outputs": []
    },
    {
      "cell_type": "code",
      "metadata": {
        "colab": {
          "base_uri": "https://localhost:8080/"
        },
        "id": "3HZ3buDdfox4",
        "outputId": "17f7caf8-3a18-4d73-a43a-02af305b999c"
      },
      "source": [
        "model.summary()"
      ],
      "execution_count": 5,
      "outputs": [
        {
          "output_type": "stream",
          "text": [
            "Model: \"sequential\"\n",
            "_________________________________________________________________\n",
            "Layer (type)                 Output Shape              Param #   \n",
            "=================================================================\n",
            "conv2d (Conv2D)              (None, 30, 30, 32)        896       \n",
            "_________________________________________________________________\n",
            "max_pooling2d (MaxPooling2D) (None, 15, 15, 32)        0         \n",
            "_________________________________________________________________\n",
            "conv2d_1 (Conv2D)            (None, 13, 13, 64)        18496     \n",
            "_________________________________________________________________\n",
            "max_pooling2d_1 (MaxPooling2 (None, 6, 6, 64)          0         \n",
            "_________________________________________________________________\n",
            "conv2d_2 (Conv2D)            (None, 4, 4, 64)          36928     \n",
            "_________________________________________________________________\n",
            "flatten (Flatten)            (None, 1024)              0         \n",
            "_________________________________________________________________\n",
            "dense (Dense)                (None, 64)                65600     \n",
            "_________________________________________________________________\n",
            "dense_1 (Dense)              (None, 10)                650       \n",
            "=================================================================\n",
            "Total params: 122,570\n",
            "Trainable params: 122,570\n",
            "Non-trainable params: 0\n",
            "_________________________________________________________________\n"
          ],
          "name": "stdout"
        }
      ]
    },
    {
      "cell_type": "code",
      "metadata": {
        "colab": {
          "base_uri": "https://localhost:8080/"
        },
        "id": "HnmCIg0Ef5JY",
        "outputId": "c62b49f5-8831-49b6-8b4c-83e4b9b16a32"
      },
      "source": [
        "model.compile(optimizer='adam',\n",
        "              loss=tf.keras.losses.SparseCategoricalCrossentropy(from_logits=True),\n",
        "              metrics=['accuracy'])\n",
        "\n",
        "history = model.fit(train_images, train_labels, epochs=16, \n",
        "                    validation_data=(test_images, test_labels))"
      ],
      "execution_count": 10,
      "outputs": [
        {
          "output_type": "stream",
          "text": [
            "Epoch 1/16\n",
            "1563/1563 [==============================] - 69s 44ms/step - loss: 0.6756 - accuracy: 0.7642 - val_loss: 0.8923 - val_accuracy: 0.6971\n",
            "Epoch 2/16\n",
            "1563/1563 [==============================] - 68s 43ms/step - loss: 0.6309 - accuracy: 0.7781 - val_loss: 0.8935 - val_accuracy: 0.7064\n",
            "Epoch 3/16\n",
            "1563/1563 [==============================] - 68s 44ms/step - loss: 0.5885 - accuracy: 0.7958 - val_loss: 0.8783 - val_accuracy: 0.7132\n",
            "Epoch 4/16\n",
            "1563/1563 [==============================] - 68s 44ms/step - loss: 0.5481 - accuracy: 0.8086 - val_loss: 0.8928 - val_accuracy: 0.7102\n",
            "Epoch 5/16\n",
            "1563/1563 [==============================] - 68s 44ms/step - loss: 0.5143 - accuracy: 0.8189 - val_loss: 0.9507 - val_accuracy: 0.7027\n",
            "Epoch 6/16\n",
            "1563/1563 [==============================] - 68s 44ms/step - loss: 0.4829 - accuracy: 0.8307 - val_loss: 1.0430 - val_accuracy: 0.6923\n",
            "Epoch 7/16\n",
            "1563/1563 [==============================] - 68s 43ms/step - loss: 0.4477 - accuracy: 0.8414 - val_loss: 1.0205 - val_accuracy: 0.7040\n",
            "Epoch 8/16\n",
            "1563/1563 [==============================] - 68s 43ms/step - loss: 0.4201 - accuracy: 0.8509 - val_loss: 1.0381 - val_accuracy: 0.6994\n",
            "Epoch 9/16\n",
            "1563/1563 [==============================] - 70s 45ms/step - loss: 0.3906 - accuracy: 0.8608 - val_loss: 1.0880 - val_accuracy: 0.7000\n",
            "Epoch 10/16\n",
            "1563/1563 [==============================] - 68s 43ms/step - loss: 0.3648 - accuracy: 0.8693 - val_loss: 1.1024 - val_accuracy: 0.6911\n",
            "Epoch 11/16\n",
            "1563/1563 [==============================] - 67s 43ms/step - loss: 0.3404 - accuracy: 0.8778 - val_loss: 1.2069 - val_accuracy: 0.6979\n",
            "Epoch 12/16\n",
            "1563/1563 [==============================] - 68s 43ms/step - loss: 0.3152 - accuracy: 0.8870 - val_loss: 1.2067 - val_accuracy: 0.6952\n",
            "Epoch 13/16\n",
            "1563/1563 [==============================] - 68s 43ms/step - loss: 0.2986 - accuracy: 0.8920 - val_loss: 1.2940 - val_accuracy: 0.6933\n",
            "Epoch 14/16\n",
            "1563/1563 [==============================] - 68s 43ms/step - loss: 0.2742 - accuracy: 0.9025 - val_loss: 1.4170 - val_accuracy: 0.6813\n",
            "Epoch 15/16\n",
            "1563/1563 [==============================] - 68s 43ms/step - loss: 0.2562 - accuracy: 0.9077 - val_loss: 1.4675 - val_accuracy: 0.6912\n",
            "Epoch 16/16\n",
            "1563/1563 [==============================] - 67s 43ms/step - loss: 0.2415 - accuracy: 0.9134 - val_loss: 1.4927 - val_accuracy: 0.6873\n"
          ],
          "name": "stdout"
        }
      ]
    },
    {
      "cell_type": "code",
      "metadata": {
        "colab": {
          "base_uri": "https://localhost:8080/"
        },
        "id": "LwAg8pNDgBqO",
        "outputId": "c1b2fe8d-9d37-4612-b70c-7c90f3ffd370"
      },
      "source": [
        "\n",
        "\n",
        "test_loss, test_acc = model.evaluate(test_images,  test_labels, verbose=2)"
      ],
      "execution_count": 11,
      "outputs": [
        {
          "output_type": "stream",
          "text": [
            "313/313 - 3s - loss: 1.4927 - accuracy: 0.6873\n"
          ],
          "name": "stdout"
        }
      ]
    }
  ]
}