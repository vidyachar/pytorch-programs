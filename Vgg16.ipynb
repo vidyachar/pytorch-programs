{
  "nbformat": 4,
  "nbformat_minor": 0,
  "metadata": {
    "colab": {
      "name": "Vgg16.ipynb",
      "provenance": [],
      "authorship_tag": "ABX9TyM2uPAw+VVWISTOm4mEX/ea",
      "include_colab_link": true
    },
    "kernelspec": {
      "name": "python3",
      "display_name": "Python 3"
    }
  },
  "cells": [
    {
      "cell_type": "markdown",
      "metadata": {
        "id": "view-in-github",
        "colab_type": "text"
      },
      "source": [
        "<a href=\"https://colab.research.google.com/github/vidyachar/pytorch-programs/blob/main/Vgg16.ipynb\" target=\"_parent\"><img src=\"https://colab.research.google.com/assets/colab-badge.svg\" alt=\"Open In Colab\"/></a>"
      ]
    },
    {
      "cell_type": "code",
      "metadata": {
        "id": "FBHOBMo4ko1t"
      },
      "source": [
        "import keras"
      ],
      "execution_count": null,
      "outputs": []
    },
    {
      "cell_type": "code",
      "metadata": {
        "id": "hrQ43HHG06B9"
      },
      "source": [
        "import keras\r\n",
        "from keras.models import Sequential\r\n",
        "from keras.layers import Dense, Activation, Dropout, Flatten, Conv2D, MaxPooling2D\r\n",
        "from keras.layers.normalization import BatchNormalization\r\n"
      ],
      "execution_count": 1,
      "outputs": []
    },
    {
      "cell_type": "code",
      "metadata": {
        "id": "GL-PZPvH1XW1"
      },
      "source": [
        "import numpy as np\r\n"
      ],
      "execution_count": 2,
      "outputs": []
    },
    {
      "cell_type": "code",
      "metadata": {
        "id": "eHjK2bQF1g7z"
      },
      "source": [
        "image_shape=(224,224,3)\r\n",
        "np.random.seed(1000)\r\n",
        "model=Sequential()"
      ],
      "execution_count": 3,
      "outputs": []
    },
    {
      "cell_type": "code",
      "metadata": {
        "id": "M7KX2iOS1rAt"
      },
      "source": [
        "model.add(Conv2D(filters=64,input_shape=image_shape, kernel_size=(3,3),padding='same', activation=\"relu\"))\r\n",
        "model.add(Conv2D(filters=64,kernel_size=(3,3),padding=\"same\",activation=\"relu\"))"
      ],
      "execution_count": 5,
      "outputs": []
    },
    {
      "cell_type": "code",
      "metadata": {
        "id": "DdGJc25u2Qn3"
      },
      "source": [
        "model.add(MaxPooling2D(pool_size=(2,2),strides=(2,2)))"
      ],
      "execution_count": 6,
      "outputs": []
    },
    {
      "cell_type": "code",
      "metadata": {
        "id": "SpbbqWfX2gp7"
      },
      "source": [
        "model.add(Conv2D(filters=128, kernel_size=(3,3), padding=\"same\",activation=\"relu\"))\r\n",
        "model.add(Conv2D(filters=128, kernel_size=(3,3), padding=\"same\",activation=\"relu\"))"
      ],
      "execution_count": 9,
      "outputs": []
    },
    {
      "cell_type": "code",
      "metadata": {
        "id": "SUOg-hoB2w4V"
      },
      "source": [
        "model.add(MaxPooling2D(pool_size=(2,2),strides=(2,2)))"
      ],
      "execution_count": 10,
      "outputs": []
    },
    {
      "cell_type": "code",
      "metadata": {
        "id": "uwKI-k6k22ip"
      },
      "source": [
        "model.add(Conv2D(filters=256, kernel_size=(3,3), padding=\"same\",activation=\"relu\"))\r\n",
        "model.add(Conv2D(filters=256, kernel_size=(3,3), padding=\"same\",activation=\"relu\"))\r\n",
        "model.add(Conv2D(filters=256, kernel_size=(3,3), padding=\"same\",activation=\"relu\"))"
      ],
      "execution_count": 11,
      "outputs": []
    },
    {
      "cell_type": "code",
      "metadata": {
        "id": "Ns-XJQDH2294"
      },
      "source": [
        "model.add(MaxPooling2D(pool_size=(2,2),strides=(2,2)))"
      ],
      "execution_count": 12,
      "outputs": []
    },
    {
      "cell_type": "code",
      "metadata": {
        "id": "mCDAxVB_23BR"
      },
      "source": [
        "model.add(Conv2D(filters=512, kernel_size=(3,3), padding=\"same\",activation=\"relu\"))\r\n",
        "model.add(Conv2D(filters=512, kernel_size=(3,3), padding=\"same\",activation=\"relu\"))\r\n",
        "model.add(Conv2D(filters=512, kernel_size=(3,3), padding=\"same\",activation=\"relu\"))"
      ],
      "execution_count": 13,
      "outputs": []
    },
    {
      "cell_type": "code",
      "metadata": {
        "id": "QG2daY81j-ok"
      },
      "source": [
        "model.add(MaxPooling2D(pool_size=(2,2),strides=(2,2)))"
      ],
      "execution_count": 14,
      "outputs": []
    },
    {
      "cell_type": "code",
      "metadata": {
        "id": "lkpy-LVGkFyW"
      },
      "source": [
        "model.add(Conv2D(filters=512, kernel_size=(3,3), padding=\"same\",activation=\"relu\"))\r\n",
        "model.add(Conv2D(filters=512, kernel_size=(3,3), padding=\"same\",activation=\"relu\"))\r\n",
        "model.add(Conv2D(filters=512, kernel_size=(3,3), padding=\"same\",activation=\"relu\"))"
      ],
      "execution_count": 15,
      "outputs": []
    },
    {
      "cell_type": "code",
      "metadata": {
        "id": "tzpOfiMEkIkd"
      },
      "source": [
        "model.add(MaxPooling2D(pool_size=(2,2),strides=(2,2)))"
      ],
      "execution_count": 16,
      "outputs": []
    },
    {
      "cell_type": "code",
      "metadata": {
        "id": "qITSRHQknpoA"
      },
      "source": [
        "model.add(Flatten())"
      ],
      "execution_count": 17,
      "outputs": []
    },
    {
      "cell_type": "code",
      "metadata": {
        "id": "B3-3QEZA3mup"
      },
      "source": [
        "model.add(Dense(units=256,activation=\"relu\"))\r\n",
        "model.add(Dense(units=256,activation=\"relu\"))\r\n",
        "model.add(Dense(units=2,activation=\"softmax\"))"
      ],
      "execution_count": 21,
      "outputs": []
    },
    {
      "cell_type": "code",
      "metadata": {
        "colab": {
          "base_uri": "https://localhost:8080/"
        },
        "id": "JkOqw-7k4TQS",
        "outputId": "864841f9-d676-4e99-fc25-659c07d375af"
      },
      "source": [
        "model.summary()"
      ],
      "execution_count": 23,
      "outputs": [
        {
          "output_type": "stream",
          "text": [
            "Model: \"sequential\"\n",
            "_________________________________________________________________\n",
            "Layer (type)                 Output Shape              Param #   \n",
            "=================================================================\n",
            "conv2d (Conv2D)              (None, 224, 224, 64)      1792      \n",
            "_________________________________________________________________\n",
            "conv2d_1 (Conv2D)            (None, 224, 224, 64)      36928     \n",
            "_________________________________________________________________\n",
            "max_pooling2d (MaxPooling2D) (None, 112, 112, 64)      0         \n",
            "_________________________________________________________________\n",
            "conv2d_2 (Conv2D)            (None, 112, 112, 128)     73856     \n",
            "_________________________________________________________________\n",
            "conv2d_3 (Conv2D)            (None, 112, 112, 128)     147584    \n",
            "_________________________________________________________________\n",
            "max_pooling2d_1 (MaxPooling2 (None, 56, 56, 128)       0         \n",
            "_________________________________________________________________\n",
            "conv2d_4 (Conv2D)            (None, 56, 56, 256)       295168    \n",
            "_________________________________________________________________\n",
            "conv2d_5 (Conv2D)            (None, 56, 56, 256)       590080    \n",
            "_________________________________________________________________\n",
            "conv2d_6 (Conv2D)            (None, 56, 56, 256)       590080    \n",
            "_________________________________________________________________\n",
            "max_pooling2d_2 (MaxPooling2 (None, 28, 28, 256)       0         \n",
            "_________________________________________________________________\n",
            "conv2d_7 (Conv2D)            (None, 28, 28, 512)       1180160   \n",
            "_________________________________________________________________\n",
            "conv2d_8 (Conv2D)            (None, 28, 28, 512)       2359808   \n",
            "_________________________________________________________________\n",
            "conv2d_9 (Conv2D)            (None, 28, 28, 512)       2359808   \n",
            "_________________________________________________________________\n",
            "max_pooling2d_3 (MaxPooling2 (None, 14, 14, 512)       0         \n",
            "_________________________________________________________________\n",
            "conv2d_10 (Conv2D)           (None, 14, 14, 512)       2359808   \n",
            "_________________________________________________________________\n",
            "conv2d_11 (Conv2D)           (None, 14, 14, 512)       2359808   \n",
            "_________________________________________________________________\n",
            "conv2d_12 (Conv2D)           (None, 14, 14, 512)       2359808   \n",
            "_________________________________________________________________\n",
            "max_pooling2d_4 (MaxPooling2 (None, 7, 7, 512)         0         \n",
            "_________________________________________________________________\n",
            "flatten (Flatten)            (None, 25088)             0         \n",
            "_________________________________________________________________\n",
            "dense_1 (Dense)              (None, 256)               6422784   \n",
            "_________________________________________________________________\n",
            "dense_2 (Dense)              (None, 256)               65792     \n",
            "_________________________________________________________________\n",
            "dense_3 (Dense)              (None, 2)                 514       \n",
            "=================================================================\n",
            "Total params: 21,203,778\n",
            "Trainable params: 21,203,778\n",
            "Non-trainable params: 0\n",
            "_________________________________________________________________\n"
          ],
          "name": "stdout"
        }
      ]
    },
    {
      "cell_type": "code",
      "metadata": {
        "id": "UX1lx9FF4ypO"
      },
      "source": [
        "model.compile(loss=keras.losses.categorical_crossentropy,optimizer='adam',metrics=[\"accuracy\"])"
      ],
      "execution_count": 22,
      "outputs": []
    }
  ]
}