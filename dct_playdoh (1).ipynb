{
  "cells": [
    {
      "cell_type": "code",
      "execution_count": null,
      "metadata": {
        "id": "vW2WBh3NY2Zd"
      },
      "outputs": [],
      "source": [
        "import numpy as np\n",
        "import matplotlib.pyplot as plt\n",
        "import os\n",
        "import cv2\n",
        "import tensorflow as tf\n",
        "from tensorflow.keras.models import Sequential\n",
        "from tensorflow.keras.layers import Dense, Dropout, Activation, Flatten, Conv2D, MaxPool2D, AveragePooling2D\n",
        "import time\n",
        "from scipy.fftpack import dct"
      ]
    },
    {
      "cell_type": "code",
      "execution_count": null,
      "metadata": {
        "colab": {
          "base_uri": "https://localhost:8080/"
        },
        "id": "sHpqxzBUtipD",
        "outputId": "2094f08b-ba16-44ad-9f71-9eedb0dab720"
      },
      "outputs": [
        {
          "name": "stdout",
          "output_type": "stream",
          "text": [
            "Mounted at /content/drive\n"
          ]
        }
      ],
      "source": [
        "from google.colab import drive\n",
        "drive.mount('/content/drive')"
      ]
    },
    {
      "cell_type": "code",
      "execution_count": null,
      "metadata": {
        "id": "IfGzZ-cTY6Jz"
      },
      "outputs": [],
      "source": [
        "DATADIR = \"/content/drive/MyDrive/trdata\"\n",
        "CATEGORIES = [\"Alive\", \"Silicone\"]"
      ]
    },
    {
      "cell_type": "code",
      "execution_count": null,
      "metadata": {
        "id": "GZrYpZKHY_Fu"
      },
      "outputs": [],
      "source": [
        "training_data = []\n",
        "def create_training_data():\n",
        "  for category in CATEGORIES:\n",
        "    path = os.path.join(DATADIR, category)\n",
        "    class_num = CATEGORIES.index(category)\n",
        "    for img in os.listdir(path):\n",
        "      try:\n",
        "        img_array = cv2.imread(os.path.join(path,img), cv2.IMREAD_GRAYSCALE)\n",
        "        new_array=abs(dct(dct(img_array)))\n",
        "        new_array=new_array[0:227,0:227]\n",
        "        #new_array=img_array[0:227,0:227]\n",
        "        training_data.append([new_array, class_num])\n",
        "      except Exception as e:\n",
        "        pass\n",
        "create_training_data() "
      ]
    },
    {
      "cell_type": "code",
      "execution_count": null,
      "metadata": {
        "id": "stFaPlsgZCMr"
      },
      "outputs": [],
      "source": [
        "import random\n",
        "\n",
        "random.shuffle(training_data)\n",
        "x = []\n",
        "y = []\n",
        "for features, label in training_data:\n",
        "  x.append(features)\n",
        "  y.append(label)\n",
        "x = np.array(x)\n",
        "y = np.array(y)\n",
        "import pickle\n",
        "pickle_out = open(\"x.pickle\",\"wb\")\n",
        "pickle.dump(x, pickle_out)\n",
        "pickle_out.close()\n",
        "\n",
        "pickle_out = open(\"y.pickle\",\"wb\")\n",
        "pickle.dump(y, pickle_out)\n",
        "pickle_out.close()\n",
        "pickle_in = open(\"x.pickle\",\"rb\")\n",
        "x = pickle.load(pickle_in)"
      ]
    },
    {
      "cell_type": "code",
      "execution_count": null,
      "metadata": {
        "id": "g8FN3zkwqPqM"
      },
      "outputs": [],
      "source": [
        "DATADIR1 = \"/content/drive/MyDrive/tsdata\"\n",
        "CATEGORIES1 = [\"Alive\", \"Silicone\"]"
      ]
    },
    {
      "cell_type": "code",
      "execution_count": null,
      "metadata": {
        "id": "FP_yaCyTqVr8"
      },
      "outputs": [],
      "source": [
        "testing_data = []\n",
        "def create_testing_data():\n",
        "  for category in CATEGORIES1:\n",
        "    path = os.path.join(DATADIR1, category)\n",
        "    class_num = CATEGORIES1.index(category)\n",
        "    for img in os.listdir(path):\n",
        "      try:\n",
        "        img_array = cv2.imread(os.path.join(path,img), cv2.IMREAD_GRAYSCALE)\n",
        "        #new_array=abs(dct(dct(img_array)))\n",
        "        #new_array=new_array[0:230,0:230]\n",
        "        new_array=img_array[0:227,0:227]\n",
        "        testing_data.append([new_array, class_num])\n",
        "      except Exception as e:\n",
        "        pass\n",
        "create_testing_data() "
      ]
    },
    {
      "cell_type": "code",
      "execution_count": null,
      "metadata": {
        "id": "57MWwWXMqixf"
      },
      "outputs": [],
      "source": [
        "\n",
        "random.shuffle(testing_data)\n",
        "m = []\n",
        "n = []\n",
        "for features, label in training_data:\n",
        "  m.append(features)\n",
        "  n.append(label)\n",
        "m = np.array(m)\n",
        "n = np.array(n)\n",
        "import pickle\n",
        "pickle_out = open(\"m.pickle\",\"wb\")\n",
        "pickle.dump(m, pickle_out)\n",
        "pickle_out.close()\n",
        "\n",
        "pickle_out = open(\"n.pickle\",\"wb\")\n",
        "pickle.dump(n, pickle_out)\n",
        "pickle_out.close()\n",
        "pickle_in = open(\"m.pickle\",\"rb\")\n",
        "m = pickle.load(pickle_in)"
      ]
    },
    {
      "cell_type": "code",
      "execution_count": null,
      "metadata": {
        "colab": {
          "background_save": true,
          "base_uri": "https://localhost:8080/"
        },
        "id": "dk_ae8Md2oCY",
        "outputId": "75555988-495f-4b6c-dd3e-f684f9995501"
      },
      "outputs": [
        {
          "name": "stdout",
          "output_type": "stream",
          "text": [
            "Epoch 1/12\n",
            "30/30 [==============================] - 26s 399ms/step - loss: 352815.2500 - accuracy: 0.5160 - val_loss: 21.1352 - val_accuracy: 0.3942\n",
            "Epoch 2/12\n",
            "30/30 [==============================] - 9s 310ms/step - loss: 17.2081 - accuracy: 0.5962 - val_loss: 1.3907 - val_accuracy: 0.5288\n",
            "Epoch 3/12\n",
            "30/30 [==============================] - 9s 309ms/step - loss: 0.9860 - accuracy: 0.6517 - val_loss: 0.7045 - val_accuracy: 0.6923\n",
            "Epoch 4/12\n",
            "30/30 [==============================] - 9s 310ms/step - loss: 0.5103 - accuracy: 0.7863 - val_loss: 0.6444 - val_accuracy: 0.7115\n",
            "Epoch 5/12\n",
            "30/30 [==============================] - 9s 311ms/step - loss: 0.6756 - accuracy: 0.7051 - val_loss: 0.5732 - val_accuracy: 0.7596\n",
            "Epoch 6/12\n",
            "30/30 [==============================] - 9s 311ms/step - loss: 0.5478 - accuracy: 0.7553 - val_loss: 0.2337 - val_accuracy: 0.9135\n",
            "Epoch 7/12\n",
            "30/30 [==============================] - 9s 314ms/step - loss: 0.3322 - accuracy: 0.8654 - val_loss: 0.2150 - val_accuracy: 0.9327\n",
            "Epoch 8/12\n",
            "30/30 [==============================] - 9s 315ms/step - loss: 0.2737 - accuracy: 0.9028 - val_loss: 1.3407 - val_accuracy: 0.7404\n",
            "Epoch 9/12\n",
            "30/30 [==============================] - 9s 317ms/step - loss: 0.2802 - accuracy: 0.8889 - val_loss: 0.1392 - val_accuracy: 0.9423\n",
            "Epoch 10/12\n",
            "30/30 [==============================] - 10s 318ms/step - loss: 0.5884 - accuracy: 0.8526 - val_loss: 0.3063 - val_accuracy: 0.8846\n",
            "Epoch 11/12\n",
            "30/30 [==============================] - 10s 318ms/step - loss: 0.5297 - accuracy: 0.8013 - val_loss: 0.3514 - val_accuracy: 0.9135\n",
            "Epoch 12/12\n",
            "30/30 [==============================] - 10s 320ms/step - loss: 0.3486 - accuracy: 0.8707 - val_loss: 0.1799 - val_accuracy: 0.9231\n",
            "Total time:  129.61589169502258 seconds\n"
          ]
        }
      ],
      "source": [
        "model = Sequential()\n",
        "\n",
        "model.add(Conv2D(64,(3,3),input_shape = [227,227,1]))\n",
        "model.add(Activation(\"relu\"))\n",
        "model.add(Conv2D(64,(3,3)))\n",
        "model.add(Activation(\"relu\"))\n",
        "model.add(MaxPool2D(pool_size=(2,2)))\n",
        "\n",
        "model.add(Conv2D(128,(3,3)))\n",
        "model.add(Activation(\"relu\"))\n",
        "model.add(Conv2D(128,(3,3)))\n",
        "model.add(Activation(\"relu\"))\n",
        "model.add(MaxPool2D(pool_size=(2,2)))\n",
        "\n",
        "#model.add(Conv2D(256,(3,3)))\n",
        "#model.add(Activation(\"relu\"))\n",
        "model.add(Conv2D(256,(3,3)))\n",
        "model.add(Activation(\"relu\"))\n",
        "model.add(Conv2D(256,(3,3)))\n",
        "model.add(Activation(\"relu\"))\n",
        "model.add(MaxPool2D(pool_size=(2,2)))\n",
        "\n",
        "#model.add(Conv2D(384,(3,3)))\n",
        "#model.add(Activation(\"relu\"))\n",
        "#model.add(Conv2D(384,(3,3)))\n",
        "#model.add(Activation(\"relu\"))\n",
        "#model.add(Conv2D(256,(3,3)))\n",
        "#model.add(Activation(\"relu\"))\n",
        "#model.add(MaxPool2D(pool_size=(2,2)))\n",
        "\n",
        "\n",
        "#model.add(Conv2D(512,(3,3)))\n",
        "#model.add(Activation(\"relu\"))\n",
        "model.add(Conv2D(512,(3,3)))\n",
        "model.add(Activation(\"relu\"))\n",
        "model.add(Conv2D(512,(3,3)))\n",
        "model.add(Activation(\"relu\"))\n",
        "model.add(MaxPool2D(pool_size=(2,2)))\n",
        "\n",
        "#model.add(Conv2D(512,(3,3)))\n",
        "#model.add(Activation(\"relu\"))\n",
        "model.add(Conv2D(512,(3,3)))\n",
        "model.add(Activation(\"relu\"))\n",
        "model.add(Conv2D(512,(3,3)))\n",
        "model.add(Activation(\"relu\"))\n",
        "model.add(MaxPool2D(pool_size=(2,2)))\n",
        "\n",
        "model.add(Flatten())\n",
        "model.add(Dense(4096))\n",
        "model.add(Dense(4096))\n",
        "model.add(Dense(1,kernel_regularizer=tf.keras.regularizers.l2(0.01)))\n",
        "model.add(Activation('linear'))\n",
        "model.compile(loss=\"hinge\",\n",
        "              optimizer=\"adam\",\n",
        "              metrics=['accuracy'])\n",
        "#model.compile(loss=\"binary_crossentropy\",\n",
        " #             optimizer=\"adam\",\n",
        "  #            metrics=['accuracy'])\n",
        "start = time.time()\n",
        "history_alexnet=model.fit(x, y, batch_size=32, epochs=12, validation_split=0.1)\n",
        "print(\"Total time: \", time.time() - start, \"seconds\")"
      ]
    },
    {
      "cell_type": "code",
      "execution_count": null,
      "metadata": {
        "colab": {
          "background_save": true
        },
        "id": "SBxPgSCaZdbG",
        "outputId": "602b0e51-479b-4d13-edca-3e3d8cffd399"
      },
      "outputs": [
        {
          "data": {
            "image/png": "[encoded data removed]",
            "text/plain": [
              "<Figure size 432x288 with 1 Axes>"
            ]
          },
          "metadata": {},
          "output_type": "display_data"
        },
        {
          "data": {
            "image/png": "[encoded data removed]",
            "text/plain": [
              "<Figure size 432x288 with 1 Axes>"
            ]
          },
          "metadata": {},
          "output_type": "display_data"
        },
        {
          "name": "stdout",
          "output_type": "stream",
          "text": [
            "Test loss: 0.2173016220331192\n",
            "Test accuracy: 0.879807710647583\n"
          ]
        }
      ],
      "source": [
        "plt.plot(history_alexnet.history['accuracy'])\n",
        "plt.plot(history_alexnet.history['val_accuracy'])\n",
        "plt.title('Model accuracy')\n",
        "plt.ylabel('Accuracy')\n",
        "plt.xlabel('Epoch')\n",
        "plt.legend(['Train', 'Test'], loc='upper left')\n",
        "plt.show()\n",
        "\n",
        "# Plot loss values vs epoch\n",
        "plt.plot(history_alexnet.history['loss'])\n",
        "plt.plot(history_alexnet.history['val_loss'])\n",
        "\n",
        "plt.title('Model loss')\n",
        "plt.ylabel('Loss')\n",
        "plt.xlabel('Epoch')\n",
        "plt.legend(['Train', 'Test'], loc='upper left')\n",
        "plt.show()\n",
        "\n",
        "# Evaluate against test data.\n",
        "score = model.evaluate(x, y, verbose = 0) \n",
        "\n",
        "print('Test loss:', score[0]) \n",
        "print('Test accuracy:', score[1])"
      ]
    },
    {
      "cell_type": "code",
      "execution_count": null,
      "metadata": {
        "colab": {
          "background_save": true
        },
        "id": "_ilF7P5srlbN",
        "outputId": "903094f8-83ef-42e3-a954-1a11fd4ca2f6"
      },
      "outputs": [
        {
          "name": "stdout",
          "output_type": "stream",
          "text": [
            "33/33 [==============================] - 4s 112ms/step\n"
          ]
        }
      ],
      "source": [
        "y_pred = model.predict(m)\n",
        "y_pred=np.where(y_pred > 0.5, 1,0)"
      ]
    },
    {
      "cell_type": "code",
      "execution_count": null,
      "metadata": {
        "colab": {
          "background_save": true
        },
        "id": "iP6Mud1MrmUs"
      },
      "outputs": [],
      "source": [
        "from sklearn.metrics import recall_score\n",
        "tpr = recall_score(n, y_pred)   # it is better to name it y_test \n",
        "# to calculate, tnr we need to set the positive label to the other class\n",
        "# I assume your negative class consists of 0, if it is -1, change 0 below to that value\n",
        "tnr = recall_score(n, y_pred, pos_label = 0) \n",
        "fpr = 1 - tnr\n",
        "fnr = 1 - tpr"
      ]
    },
    {
      "cell_type": "code",
      "execution_count": null,
      "metadata": {
        "colab": {
          "background_save": true
        },
        "id": "cTWs1EJDrpX9",
        "outputId": "b928def1-0b22-40f9-a9d2-48ed0dc64c08"
      },
      "outputs": [
        {
          "data": {
            "text/plain": [
              "0.12019230769230771"
            ]
          },
          "execution_count": 13,
          "metadata": {},
          "output_type": "execute_result"
        }
      ],
      "source": [
        "(fpr+fnr)/2"
      ]
    }
  ],
  "metadata": {
    "accelerator": "GPU",
    "colab": {
      "provenance": []
    },
    "gpuClass": "standard",
    "kernelspec": {
      "display_name": "Python 3",
      "name": "python3"
    },
    "language_info": {
      "name": "python"
    }
  },
  "nbformat": 4,
  "nbformat_minor": 0
}