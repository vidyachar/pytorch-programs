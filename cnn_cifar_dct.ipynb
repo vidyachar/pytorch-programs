{
  "nbformat": 4,
  "nbformat_minor": 0,
  "metadata": {
    "colab": {
      "name": "cnn_cifar_dct.ipynb",
      "provenance": [],
      "authorship_tag": "ABX9TyN5vvIQpW5qrPocdVX3J2Zy",
      "include_colab_link": true
    },
    "kernelspec": {
      "name": "python3",
      "display_name": "Python 3"
    },
    "language_info": {
      "name": "python"
    }
  },
  "cells": [
    {
      "cell_type": "markdown",
      "metadata": {
        "id": "view-in-github",
        "colab_type": "text"
      },
      "source": [
        "<a href=\"https://colab.research.google.com/github/vidyachar/pytorch-programs/blob/main/cnn_cifar_dct.ipynb\" target=\"_parent\"><img src=\"https://colab.research.google.com/assets/colab-badge.svg\" alt=\"Open In Colab\"/></a>"
      ]
    },
    {
      "cell_type": "code",
      "metadata": {
        "id": "7NPhT2IufZ3f"
      },
      "source": [
        "import tensorflow as tf\n",
        "\n",
        "from tensorflow.keras import datasets, layers, models"
      ],
      "execution_count": 1,
      "outputs": []
    },
    {
      "cell_type": "code",
      "metadata": {
        "id": "3aweaXkHk77l"
      },
      "source": [
        "from tensorflow.python.ops.signal import dct_ops"
      ],
      "execution_count": 2,
      "outputs": []
    },
    {
      "cell_type": "code",
      "metadata": {
        "id": "0uWzytR1fe5Y"
      },
      "source": [
        "(train_images, train_labels), (test_images, test_labels) = datasets.cifar10.load_data()\n",
        "\n",
        "# Normalize pixel values to be between 0 and 1\n",
        "train_images, test_images = train_images / 255.0, test_images / 255.0"
      ],
      "execution_count": 3,
      "outputs": []
    },
    {
      "cell_type": "code",
      "metadata": {
        "id": "NaPGTXdqmi7v"
      },
      "source": [
        "from tensorflow.python.keras.engine.base_layer import Layer\n",
        "class Pooling2D(Layer):\n",
        "  def __init__(self, pool_function, pool_size, strides,\n",
        "               padding='valid', data_format=None,\n",
        "               name=None, **kwargs):\n",
        "    super(Pooling2D, self).__init__(name=name, **kwargs)\n",
        "    if data_format is None:\n",
        "      data_format = backend.image_data_format()\n",
        "    if strides is None:\n",
        "      strides = pool_size\n",
        "    self.pool_function = pool_function\n",
        "    self.pool_size = conv_utils.normalize_tuple(pool_size, 2, 'pool_size')\n",
        "    self.strides = conv_utils.normalize_tuple(strides, 2, 'strides')\n",
        "    self.padding = conv_utils.normalize_padding(padding)\n",
        "    self.data_format = conv_utils.normalize_data_format(data_format)\n",
        "    self.input_spec = InputSpec(ndim=4)\n",
        "\n",
        "  def call(self, inputs):\n",
        "    if self.data_format == 'channels_last':\n",
        "      pool_shape = (1,) + self.pool_size + (1,)\n",
        "      strides = (1,) + self.strides + (1,)\n",
        "    else:\n",
        "      pool_shape = (1, 1) + self.pool_size\n",
        "      strides = (1, 1) + self.strides\n",
        "    outputs = self.pool_function(\n",
        "        inputs,\n",
        "        ksize=pool_shape,\n",
        "        strides=strides,\n",
        "        padding=self.padding.upper(),\n",
        "        data_format=conv_utils.convert_data_format(self.data_format, 4))\n",
        "    return outputs\n",
        "\n",
        "  def compute_output_shape(self, input_shape):\n",
        "    input_shape = tensor_shape.TensorShape(input_shape).as_list()\n",
        "    if self.data_format == 'channels_first':\n",
        "      rows = input_shape[2]\n",
        "      cols = input_shape[3]\n",
        "    else:\n",
        "      rows = input_shape[1]\n",
        "      cols = input_shape[2]\n",
        "    rows = conv_utils.conv_output_length(rows, self.pool_size[0], self.padding,\n",
        "                                         self.strides[0])\n",
        "    cols = conv_utils.conv_output_length(cols, self.pool_size[1], self.padding,\n",
        "                                         self.strides[1])\n",
        "    if self.data_format == 'channels_first':\n",
        "      return tensor_shape.TensorShape(\n",
        "          [input_shape[0], input_shape[1], rows, cols])\n",
        "    else:\n",
        "      return tensor_shape.TensorShape(\n",
        "          [input_shape[0], rows, cols, input_shape[3]])\n",
        "\n",
        "  def get_config(self):\n",
        "    config = {\n",
        "        'pool_size': self.pool_size,\n",
        "        'padding': self.padding,\n",
        "        'strides': self.strides,\n",
        "        'data_format': self.data_format\n",
        "    }\n",
        "    base_config = super(Pooling2D, self).get_config()\n",
        "    return dict(list(base_config.items()) + list(config.items()))"
      ],
      "execution_count": 4,
      "outputs": []
    },
    {
      "cell_type": "code",
      "metadata": {
        "id": "Y5X7V1ytlnaW"
      },
      "source": [
        "class MaxPooling2D(Pooling2D):\n",
        "  def __init__(self,\n",
        "               pool_size=(2, 2),\n",
        "               strides=None,\n",
        "               padding='valid',\n",
        "               data_format=None,\n",
        "               **kwargs):\n",
        "    super(MaxPooling2D, self).__init__(\n",
        "        dct_ops,\n",
        "        pool_size=pool_size, strides=strides,\n",
        "        padding=padding, data_format=data_format, **kwargs)"
      ],
      "execution_count": 5,
      "outputs": []
    },
    {
      "cell_type": "code",
      "metadata": {
        "id": "hCsy6gB0ufZL"
      },
      "source": [
        "model = models.Sequential()\n",
        "model.add(layers.Conv2D(32, (3, 3), activation='relu', input_shape=(32, 32, 3)))\n",
        "model.add(layers.MaxPooling2D((2, 2)))\n",
        "model.add(layers.Conv2D(64, (3, 3), activation='relu'))\n",
        "model.add(layers.MaxPooling2D((2, 2)))\n",
        "model.add(layers.Conv2D(64, (3, 3), activation='relu'))\n"
      ],
      "execution_count": 6,
      "outputs": []
    },
    {
      "cell_type": "code",
      "metadata": {
        "id": "n9a4WkzTvKmL"
      },
      "source": [
        "model.add(layers.Flatten())\n",
        "model.add(layers.Dense(64, activation='relu'))\n",
        "model.add(layers.Dense(10))"
      ],
      "execution_count": 7,
      "outputs": []
    },
    {
      "cell_type": "code",
      "metadata": {
        "colab": {
          "base_uri": "https://localhost:8080/"
        },
        "id": "3HZ3buDdfox4",
        "outputId": "6163a982-9e9f-42e3-9d17-0bd200d52673"
      },
      "source": [
        "model.summary()"
      ],
      "execution_count": 8,
      "outputs": [
        {
          "output_type": "stream",
          "text": [
            "Model: \"sequential\"\n",
            "_________________________________________________________________\n",
            "Layer (type)                 Output Shape              Param #   \n",
            "=================================================================\n",
            "conv2d (Conv2D)              (None, 30, 30, 32)        896       \n",
            "_________________________________________________________________\n",
            "max_pooling2d (MaxPooling2D) (None, 15, 15, 32)        0         \n",
            "_________________________________________________________________\n",
            "conv2d_1 (Conv2D)            (None, 13, 13, 64)        18496     \n",
            "_________________________________________________________________\n",
            "max_pooling2d_1 (MaxPooling2 (None, 6, 6, 64)          0         \n",
            "_________________________________________________________________\n",
            "conv2d_2 (Conv2D)            (None, 4, 4, 64)          36928     \n",
            "_________________________________________________________________\n",
            "flatten (Flatten)            (None, 1024)              0         \n",
            "_________________________________________________________________\n",
            "dense (Dense)                (None, 64)                65600     \n",
            "_________________________________________________________________\n",
            "dense_1 (Dense)              (None, 10)                650       \n",
            "=================================================================\n",
            "Total params: 122,570\n",
            "Trainable params: 122,570\n",
            "Non-trainable params: 0\n",
            "_________________________________________________________________\n"
          ],
          "name": "stdout"
        }
      ]
    },
    {
      "cell_type": "code",
      "metadata": {
        "colab": {
          "base_uri": "https://localhost:8080/"
        },
        "id": "HnmCIg0Ef5JY",
        "outputId": "1431edbd-e02c-4a86-b0a8-376c96d2eb72"
      },
      "source": [
        "model.compile(optimizer='adam',\n",
        "              loss=tf.keras.losses.SparseCategoricalCrossentropy(from_logits=True),\n",
        "              metrics=['accuracy'])\n",
        "\n",
        "history = model.fit(train_images, train_labels, epochs=16, \n",
        "                    validation_data=(test_images, test_labels))"
      ],
      "execution_count": 13,
      "outputs": [
        {
          "output_type": "stream",
          "text": [
            "Epoch 1/16\n",
            "1563/1563 [==============================] - 62s 40ms/step - loss: 0.6737 - accuracy: 0.7641 - val_loss: 0.8957 - val_accuracy: 0.6999\n",
            "Epoch 2/16\n",
            "1563/1563 [==============================] - 62s 39ms/step - loss: 0.6300 - accuracy: 0.7772 - val_loss: 0.9485 - val_accuracy: 0.6942\n",
            "Epoch 3/16\n",
            "1563/1563 [==============================] - 61s 39ms/step - loss: 0.5953 - accuracy: 0.7911 - val_loss: 0.9012 - val_accuracy: 0.7044\n",
            "Epoch 4/16\n",
            "1563/1563 [==============================] - 62s 40ms/step - loss: 0.5571 - accuracy: 0.8035 - val_loss: 0.9083 - val_accuracy: 0.7075\n",
            "Epoch 5/16\n",
            "1563/1563 [==============================] - 61s 39ms/step - loss: 0.5237 - accuracy: 0.8160 - val_loss: 0.9625 - val_accuracy: 0.7006\n",
            "Epoch 6/16\n",
            "1563/1563 [==============================] - 61s 39ms/step - loss: 0.4859 - accuracy: 0.8280 - val_loss: 0.9460 - val_accuracy: 0.6967\n",
            "Epoch 7/16\n",
            "1563/1563 [==============================] - 64s 41ms/step - loss: 0.4627 - accuracy: 0.8360 - val_loss: 0.9412 - val_accuracy: 0.7065\n",
            "Epoch 8/16\n",
            "1563/1563 [==============================] - 64s 41ms/step - loss: 0.4309 - accuracy: 0.8464 - val_loss: 1.0465 - val_accuracy: 0.6946\n",
            "Epoch 9/16\n",
            "1563/1563 [==============================] - 63s 40ms/step - loss: 0.4053 - accuracy: 0.8549 - val_loss: 1.0413 - val_accuracy: 0.7050\n",
            "Epoch 10/16\n",
            "1563/1563 [==============================] - 63s 40ms/step - loss: 0.3839 - accuracy: 0.8629 - val_loss: 1.0461 - val_accuracy: 0.7028\n",
            "Epoch 11/16\n",
            "1563/1563 [==============================] - 64s 41ms/step - loss: 0.3535 - accuracy: 0.8740 - val_loss: 1.1488 - val_accuracy: 0.7023\n",
            "Epoch 12/16\n",
            "1563/1563 [==============================] - 65s 41ms/step - loss: 0.3332 - accuracy: 0.8813 - val_loss: 1.2083 - val_accuracy: 0.6968\n",
            "Epoch 13/16\n",
            "1563/1563 [==============================] - 63s 40ms/step - loss: 0.3155 - accuracy: 0.8855 - val_loss: 1.2311 - val_accuracy: 0.6977\n",
            "Epoch 14/16\n",
            "1563/1563 [==============================] - 60s 39ms/step - loss: 0.2936 - accuracy: 0.8957 - val_loss: 1.2668 - val_accuracy: 0.6943\n",
            "Epoch 15/16\n",
            "1563/1563 [==============================] - 62s 40ms/step - loss: 0.2766 - accuracy: 0.9001 - val_loss: 1.3179 - val_accuracy: 0.6953\n",
            "Epoch 16/16\n",
            "1563/1563 [==============================] - 63s 40ms/step - loss: 0.2672 - accuracy: 0.9022 - val_loss: 1.3677 - val_accuracy: 0.6980\n"
          ],
          "name": "stdout"
        }
      ]
    },
    {
      "cell_type": "code",
      "metadata": {
        "colab": {
          "base_uri": "https://localhost:8080/"
        },
        "id": "LwAg8pNDgBqO",
        "outputId": "e8e6bb4a-d429-4eaf-bedb-f163ba464ec8"
      },
      "source": [
        "\n",
        "\n",
        "test_loss, test_acc = model.evaluate(test_images,  test_labels, verbose=2)"
      ],
      "execution_count": 16,
      "outputs": [
        {
          "output_type": "stream",
          "text": [
            "313/313 - 3s - loss: 1.3677 - accuracy: 0.6980\n"
          ],
          "name": "stdout"
        }
      ]
    }
  ]
}